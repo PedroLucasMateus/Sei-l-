{
 "cells": [
  {
   "cell_type": "code",
   "execution_count": 44,
   "id": "248d019c",
   "metadata": {},
   "outputs": [],
   "source": [
    "#A seguir é apresentada a lista que será analisada:\n",
    "tweets = [\"Wow, what a great day today!! #sunshine\",\n",
    "\"I feel sad about the things going on around us. #covid19\",\n",
    "\"I'm really excited to learn Python with @JovianML #zerotopandas\",\n",
    "\"This is a really nice song. #linkinpark\",\n",
    "\"The python programming language is useful for data science\",\n",
    "\"Why do bad things happen to me?\",\n",
    "\"Apple announces the release of the new iPhone 12. Fans are excited.\",\n",
    "\"Spent my day with family!! #happy\",\n",
    "\"Check out my blog post on common string operations in Python. #zerotopandas\",\n",
    "\"Freecodecamp has great coding tutorials. #skillup\"]"
   ]
  },
  {
   "cell_type": "code",
   "execution_count": 43,
   "id": "5fb3bb60",
   "metadata": {},
   "outputs": [
    {
     "data": {
      "text/plain": [
       "10"
      ]
     },
     "execution_count": 43,
     "metadata": {},
     "output_type": "execute_result"
    }
   ],
   "source": [
    "#1. Quantos tweets existem nesse banco de dados?\n",
    "len(tweets)\n",
    "\n",
    "# R - Há 10 tweets neste banco de dados."
   ]
  },
  {
   "cell_type": "code",
   "execution_count": 83,
   "id": "217691e4",
   "metadata": {},
   "outputs": [
    {
     "name": "stdout",
     "output_type": "stream",
     "text": [
      "O tweet: \" Wow, what a great day today!! #sunshine \" é um tweet feliz!\n"
     ]
    }
   ],
   "source": [
    "# 2. A partir das listas de palavras apresentadas abaixo, tome o primeiro tweet como amostra e identifique se é feliz ou não.\n",
    "\n",
    "happy_words = ['great', 'excited', 'happy', 'nice', 'wonderful', 'amazing', 'good', 'best']\n",
    "sad_words = ['sad', 'bad', 'tragic', 'unhappy', 'worst']  \n",
    "\n",
    "for palavras in happy_words:\n",
    "    if palavras in tweets[0]:\n",
    "        print('O tweet: \" ' +tweets[0]+ ' \" é um tweet feliz!' )\n",
    "for palavras in sad_words:\n",
    "    if palavras in tweets[0]:\n",
    "        print('O tweet: \" ' +tweets[0]+ ' \" é um tweet triste!' )\n",
    "\n",
    "    "
   ]
  },
  {
   "cell_type": "code",
   "execution_count": 105,
   "id": "fc92ccd1",
   "metadata": {},
   "outputs": [
    {
     "name": "stdout",
     "output_type": "stream",
     "text": [
      "O tweet: \" Wow, what a great day today!! #sunshine \" é um tweet feliz!\n",
      "O tweet: \" I feel sad about the things going on around us. #covid19 \" é um tweet triste!\n",
      "O tweet: \" I'm really excited to learn Python with @JovianML #zerotopandas \" é um tweet feliz!\n",
      "O tweet: \" This is a really nice song. #linkinpark \" é um tweet feliz!\n",
      "O tweet: \" Why do bad things happen to me? \" é um tweet triste!\n",
      "O tweet: \" Apple announces the release of the new iPhone 12. Fans are excited. \" é um tweet feliz!\n",
      "O tweet: \" Spent my day with family!! #happy \" é um tweet feliz!\n",
      "O tweet: \" Freecodecamp has great coding tutorials. #skillup \" é um tweet feliz!\n",
      "\n",
      "Temos um total de: 2 tweets tristes. :( \n",
      "Temos um total de: 6 tweets felizes. :) \n"
     ]
    }
   ],
   "source": [
    "#3. A partir do item “b)”, crie uma nova variável que conte quantos tweets felizes estão \n",
    "#contidos na lista “tweets”, crie também outra variável que conte o número de tweets\n",
    "#tristes. Exiba os número encontrados com um texto que os defina\n",
    "\n",
    "\n",
    "triste = 0 \n",
    "feliz = 0 \n",
    "for frases in tweets:\n",
    "\n",
    "    for palavras_tristes in sad_words:\n",
    "        if palavras_tristes in frases:\n",
    "            print('O tweet: \" '+frases+' \" é um tweet triste!')\n",
    "            triste = triste + 1\n",
    "            \n",
    "    for palavras_felizes in happy_words:\n",
    "        if palavras_felizes in frases:\n",
    "            print('O tweet: \" '+frases+' \" é um tweet feliz!')\n",
    "            feliz = feliz + 1\n",
    "print()\n",
    "print('Temos um total de:',triste,'tweets tristes. :( ' )\n",
    "print('Temos um total de:',feliz,'tweets felizes. :) ' )"
   ]
  }
 ],
 "metadata": {
  "kernelspec": {
   "display_name": "Python 3 (ipykernel)",
   "language": "python",
   "name": "python3"
  },
  "language_info": {
   "codemirror_mode": {
    "name": "ipython",
    "version": 3
   },
   "file_extension": ".py",
   "mimetype": "text/x-python",
   "name": "python",
   "nbconvert_exporter": "python",
   "pygments_lexer": "ipython3",
   "version": "3.9.12"
  }
 },
 "nbformat": 4,
 "nbformat_minor": 5
}
